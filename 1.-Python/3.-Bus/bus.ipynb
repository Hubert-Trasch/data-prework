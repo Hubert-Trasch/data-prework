{
 "cells": [
  {
   "cell_type": "markdown",
   "metadata": {},
   "source": [
    "<img src=\"https://bit.ly/2VnXWr2\" width=\"100\" align=\"left\">"
   ]
  },
  {
   "cell_type": "markdown",
   "metadata": {},
   "source": [
    "# Bus\n",
    "\n",
    "This bus has a passenger entry and exit control system to monitor the number of occupants it carries and thus detect when there are too many.\n",
    "\n",
    "At each stop, the entry and exit of passengers is represented by a tuple consisting of two integer numbers.\n",
    "```\n",
    "bus_stop = (in, out)\n",
    "```\n",
    "The succession of stops is represented by a list of these tuples.\n",
    "```\n",
    "stops = [(in1, out1), (in2, out2), (in3, out3), (in4, out4)]\n",
    "```\n",
    "\n",
    "## Tools\n",
    "You don't necessarily need to use all the tools. Maybe you opt to use some of them or completely different ones, they are given to help you shape the exercise. Programming exercises can be solved in many different ways.\n",
    "* Data structures: **lists, tuples**\n",
    "* Loop: **while/for loops**\n",
    "* Functions: **min, max, len**\n",
    "\n",
    "## Tasks"
   ]
  },
  {
   "cell_type": "code",
   "execution_count": null,
   "metadata": {},
   "outputs": [],
   "source": [
    "# Variables\n",
    "stops = [(10, 0), (4, 1), (3, 5), (3, 4), (5, 1), (1, 5), (5, 8), (4, 6), (2, 3)]"
   ]
  },
  {
   "cell_type": "markdown",
   "metadata": {},
   "source": [
    "#### 1. Calculate the number of stops."
   ]
  },
  {
   "cell_type": "code",
   "execution_count": 3,
   "metadata": {},
   "outputs": [
    {
     "data": {
      "text/plain": [
       "9"
      ]
     },
     "execution_count": 3,
     "metadata": {},
     "output_type": "execute_result"
    }
   ],
   "source": [
    "stops = [(10, 0), (4, 1), (3, 5), (3, 4), (5, 1), (1, 5), (5, 8), (4, 6), (2, 3)]\n",
    "\n",
    "len(stops)\n",
    "    \n",
    "\n"
   ]
  },
  {
   "cell_type": "markdown",
   "metadata": {},
   "source": [
    "#### 2. Assign to a variable a list whose elements are the number of passengers at each stop (in-out).\n",
    "Each item depends on the previous item in the list + in - out."
   ]
  },
  {
   "cell_type": "code",
   "execution_count": 2,
   "metadata": {},
   "outputs": [
    {
     "name": "stdout",
     "output_type": "stream",
     "text": [
      "[10, 3, -2, -1, 4, -4, -3, -2, -1]\n"
     ]
    },
    {
     "data": {
      "text/plain": [
       "10"
      ]
     },
     "execution_count": 2,
     "metadata": {},
     "output_type": "execute_result"
    }
   ],
   "source": [
    "stops = [(10, 0), (4, 1), (3, 5), (3, 4), (5, 1), (1, 5), (5, 8), (4, 6), (2, 3)]\n",
    "\n",
    "len(stops)\n",
    "\n",
    "people_in=range(0,9)\n",
    "\n",
    "list(stops)\n",
    "number_of_passengers=[]\n",
    "\n",
    "for i in people_in:\n",
    "    number=stops[i][0]-stops[i][1]\n",
    "    number_of_passengers.append(number)\n",
    "    \n",
    "print(number_of_passengers)\n",
    "\n",
    "max(number_of_passengers)\n",
    "    \n",
    "    \n",
    "    \n",
    "\n",
    "    \n"
   ]
  },
  {
   "cell_type": "markdown",
   "metadata": {},
   "source": [
    "#### 3. Find the maximum occupation of the bus."
   ]
  },
  {
   "cell_type": "code",
   "execution_count": 6,
   "metadata": {
    "scrolled": true
   },
   "outputs": [
    {
     "name": "stdout",
     "output_type": "stream",
     "text": [
      "[10, 3, -2, -1, 4, -4, -3, -2, -1]\n",
      "Number of passengers at last stop: 4\n",
      "10\n",
      "13\n",
      "11\n",
      "10\n",
      "14\n",
      "10\n",
      "7\n",
      "5\n",
      "4\n",
      "[10, 13, 11, 10, 14, 10, 7, 5, 4]\n",
      "Maxium occupancy: 14\n"
     ]
    }
   ],
   "source": [
    "stops = [(10, 0), (4, 1), (3, 5), (3, 4), (5, 1), (1, 5), (5, 8), (4, 6), (2, 3)]\n",
    "\n",
    "len(stops)\n",
    "\n",
    "people_in=range(0,9)\n",
    "\n",
    "list(stops)\n",
    "number_of_passengers=[]\n",
    "\n",
    "for i in people_in:\n",
    "    number=stops[i][0]-stops[i][1]\n",
    "    number_of_passengers.append(number)\n",
    "    \n",
    "print(number_of_passengers)\n",
    "print(\"Number of passengers at last stop:\",sum(number_of_passengers))\n",
    "\n",
    "total=0\n",
    "total_passengers=[]\n",
    "\n",
    "for i in number_of_passengers:\n",
    "    total+=i\n",
    "    print(total)\n",
    "    total_passengers.append(total)\n",
    "    \n",
    "print(total_passengers)\n",
    "print(\"Maxium occupancy:\",max(total_passengers))\n",
    "\n",
    "\n",
    "\n",
    "    \n",
    "    "
   ]
  },
  {
   "cell_type": "markdown",
   "metadata": {},
   "source": [
    "#### 4. Calculate the average occupation. And the standard deviation."
   ]
  },
  {
   "cell_type": "code",
   "execution_count": 17,
   "metadata": {
    "scrolled": true
   },
   "outputs": [
    {
     "name": "stdout",
     "output_type": "stream",
     "text": [
      "[10, 3, -2, -1, 4, -4, -3, -2, -1]\n",
      "Number of passengers at last stop: 4\n",
      "10\n",
      "13\n",
      "11\n",
      "10\n",
      "14\n",
      "10\n",
      "7\n",
      "5\n",
      "4\n",
      "[10, 13, 11, 10, 14, 10, 7, 5, 4]\n",
      "Maxium occupancy: 14\n",
      "Average occupancy: 9.333333333333334\n",
      "Deviation passengers per Stop: 0.6666666666666661\n",
      "Deviation passengers per Stop: 3.666666666666666\n",
      "Deviation passengers per Stop: 1.666666666666666\n",
      "Deviation passengers per Stop: 0.6666666666666661\n",
      "Deviation passengers per Stop: 4.666666666666666\n",
      "Deviation passengers per Stop: 0.6666666666666661\n",
      "Deviation passengers per Stop: -2.333333333333334\n",
      "Deviation passengers per Stop: -4.333333333333334\n",
      "Deviation passengers per Stop: -5.333333333333334\n"
     ]
    }
   ],
   "source": [
    "stops = [(10, 0), (4, 1), (3, 5), (3, 4), (5, 1), (1, 5), (5, 8), (4, 6), (2, 3)]\n",
    "\n",
    "len(stops)\n",
    "\n",
    "people_in=range(0,9)\n",
    "\n",
    "list(stops)\n",
    "number_of_passengers=[]\n",
    "\n",
    "for i in people_in:\n",
    "    number=stops[i][0]-stops[i][1]\n",
    "    number_of_passengers.append(number)\n",
    "    \n",
    "print(number_of_passengers)\n",
    "print(\"Number of passengers at last stop:\",sum(number_of_passengers))\n",
    "\n",
    "total=0\n",
    "total_passengers=[]\n",
    "\n",
    "for i in number_of_passengers:\n",
    "    total+=i\n",
    "    print(total)\n",
    "    total_passengers.append(total)\n",
    "    \n",
    "print(total_passengers)\n",
    "print(\"Maxium occupancy:\",max(total_passengers))\n",
    "\n",
    "print(\"Average occupancy:\",sum(total_passengers)/len(total_passengers))\n",
    "\n",
    "#Deviation\n",
    "\n",
    "deviation_passengers=0\n",
    "\n",
    "\n",
    "for i in people_in:\n",
    "    deviation_passengers=total_passengers[i]-(sum(total_passengers)/len(total_passengers))\n",
    "    print(\"Deviation passengers per Stop:\", deviation_passengers)\n",
    "    \n",
    "    \n",
    " "
   ]
  },
  {
   "cell_type": "code",
   "execution_count": null,
   "metadata": {},
   "outputs": [],
   "source": []
  }
 ],
 "metadata": {
  "kernelspec": {
   "display_name": "Python 3",
   "language": "python",
   "name": "python3"
  },
  "language_info": {
   "codemirror_mode": {
    "name": "ipython",
    "version": 3
   },
   "file_extension": ".py",
   "mimetype": "text/x-python",
   "name": "python",
   "nbconvert_exporter": "python",
   "pygments_lexer": "ipython3",
   "version": "3.9.1"
  }
 },
 "nbformat": 4,
 "nbformat_minor": 2
}
