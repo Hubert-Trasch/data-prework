{
 "cells": [
  {
   "cell_type": "code",
   "execution_count": 1,
   "metadata": {},
   "outputs": [
    {
     "name": "stdout",
     "output_type": "stream",
     "text": [
      "snail is at the beginning\n",
      "snail has not reached the well height, current day 0 and current height 0\n",
      "snail has not reached the well height, current day 1 and current height 10\n",
      "snail has not reached the well height, current day 2 and current height 20\n",
      "snail has not reached the well height, current day 3 and current height 30\n",
      "snail has not reached the well height, current day 4 and current height 40\n",
      "snail has not reached the well height, current day 5 and current height 50\n",
      "snail has not reached the well height, current day 6 and current height 60\n",
      "snail has not reached the well height, current day 7 and current height 70\n",
      "snail has not reached the well height, current day 8 and current height 80\n",
      "snail has not reached the well height, current day 9 and current height 90\n",
      "snail has not reached the well height, current day 10 and current height 100\n",
      "snail has not reached the well height, current day 11 and current height 110\n",
      "snail has not reached the well height, current day 12 and current height 120\n",
      "it is done in 13 days 130\n"
     ]
    }
   ],
   "source": [
    "well_height = 125\n",
    "daily_distance = 30\n",
    "nightly_distance = 20\n",
    "snail_position = 0\n",
    "days = 0\n",
    "daily_achievement = 10\n",
    "start = 0\n",
    "\n",
    "print (\"snail is at the beginning\")\n",
    "\n",
    "while start < well_height:\n",
    "    print(\"snail has not reached the well height, current day\", days,\"and current height\", start)\n",
    "    start += daily_achievement\n",
    "    days = days + 1\n",
    "print (\"it is done in\", days, \"days\", start)"
   ]
  },
  {
   "cell_type": "code",
   "execution_count": null,
   "metadata": {},
   "outputs": [],
   "source": []
  }
 ],
 "metadata": {
  "kernelspec": {
   "display_name": "Python 3",
   "language": "python",
   "name": "python3"
  },
  "language_info": {
   "codemirror_mode": {
    "name": "ipython",
    "version": 3
   },
   "file_extension": ".py",
   "mimetype": "text/x-python",
   "name": "python",
   "nbconvert_exporter": "python",
   "pygments_lexer": "ipython3",
   "version": "3.9.1"
  }
 },
 "nbformat": 4,
 "nbformat_minor": 4
}
